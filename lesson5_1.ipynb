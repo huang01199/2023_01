{
 "cells": [
  {
   "cell_type": "code",
   "execution_count": 2,
   "metadata": {},
   "outputs": [
    {
     "ename": "NameError",
     "evalue": "name 'h' is not defined",
     "output_type": "error",
     "traceback": [
      "\u001b[0;31m---------------------------------------------------------------------------\u001b[0m",
      "\u001b[0;31mNameError\u001b[0m                                 Traceback (most recent call last)",
      "\u001b[1;32m/workspaces/2023_01/lesson5_1.ipynb 儲存格 1\u001b[0m line \u001b[0;36m1\n\u001b[0;32m----> <a href='vscode-notebook-cell://codespaces%2Bmusical-fortnight-r44r4979qpwv344p/workspaces/2023_01/lesson5_1.ipynb#W0sdnNjb2RlLXJlbW90ZQ%3D%3D?line=0'>1</a>\u001b[0m money\u001b[39m=\u001b[39m\u001b[39meval\u001b[39;49m(\u001b[39minput\u001b[39;49m(\u001b[39m\"\u001b[39;49m\u001b[39m請輸入金額:\u001b[39;49m\u001b[39m\"\u001b[39;49m))\n\u001b[1;32m      <a href='vscode-notebook-cell://codespaces%2Bmusical-fortnight-r44r4979qpwv344p/workspaces/2023_01/lesson5_1.ipynb#W0sdnNjb2RlLXJlbW90ZQ%3D%3D?line=1'>2</a>\u001b[0m \u001b[39mprint\u001b[39m(money)\n",
      "File \u001b[0;32m<string>:1\u001b[0m\n",
      "\u001b[0;31mNameError\u001b[0m: name 'h' is not defined"
     ]
    }
   ],
   "source": [
    "money=eval(input(\"請輸入金額:\"))\n",
    "print(money)"
   ]
  },
  {
   "cell_type": "code",
   "execution_count": 8,
   "metadata": {},
   "outputs": [
    {
     "name": "stdout",
     "output_type": "stream",
     "text": [
      "225\n",
      "2.5\n",
      "程式結束\n"
     ]
    }
   ],
   "source": [
    "try:\n",
    "    money=int(input(\"請輸入金額:\"))\n",
    "    f1=eval(input(\"請輸入浮點數\"))\n",
    "   \n",
    "except SyntaxError:\n",
    "    print(\"輸入格式有誤\")\n",
    "except ValueError:\n",
    "    print(\"輸入金額時有問題\")\n",
    "except:\n",
    "    print(\"不知名的錯誤\")\n",
    "else:\n",
    "    print(money)\n",
    "    print(f1)\n",
    "print(\"程式結束\")"
   ]
  },
  {
   "cell_type": "code",
   "execution_count": null,
   "metadata": {},
   "outputs": [],
   "source": [
    "#學生總分為300\n",
    "#檢查學生輸入分數是<=300\n",
    "#有些學生可以加分5%\n",
    "#如果加分後超過300分，就已300分為準\n",
    "try:\n",
    "    a=int(input(\"請輸入學生分數(最高300分):\"))\n",
    "except ValueError:\n",
    "    print(\"格式有錯\")\n",
    "except:\n",
    "    print(\"不知名錯誤\")\n",
    "else:\n",
    "    if(a<=300):\n",
    "        b=input(\"學生是否符合加分條件?(y,n)\")\n",
    "\n",
    "        if(b==\"y\"):\n",
    "            a*=1.05\n",
    "            if(a>300):\n",
    "                a=300\n",
    "        print(f\"學生分數是:{round(a)}\")#round傳回浮點數的四捨五入\n",
    "    else:\n",
    "        print(\"學生分數不能大於300\")\n",
    "\n",
    "\n",
    "\n",
    "\n",
    "#print(f\"學生分數是:{a:.0f}\")#四捨五入\n",
    "#print(f\"學生分數是: {int(a)}\")#無條件捨去\n",
    "\n"
   ]
  },
  {
   "cell_type": "code",
   "execution_count": 12,
   "metadata": {},
   "outputs": [],
   "source": [
    "import pyinputplus as pyip"
   ]
  },
  {
   "cell_type": "code",
   "execution_count": 1,
   "metadata": {},
   "outputs": [
    {
     "name": "stdout",
     "output_type": "stream",
     "text": [
      "請輸入學生分數(最高300分):270\n",
      "學生是否符合加分條件?(y,n)y\n",
      "學生分數是284\n"
     ]
    }
   ],
   "source": [
    "import pyinputplus as pyip\n",
    "\n",
    "scores = pyip.inputInt(\"請輸入學生分數(最高300分):\",min=0,max=300)\n",
    "print(scores)\n",
    "is_add = pyip.inputYesNo(\"學生是否符合加分條件?(y,n)\",yesVal='y',noVal='n',default='n',blank=True)\n",
    "print(is_add)\n",
    "if(is_add == \"y\"):\n",
    "    scores *= 1.05\n",
    "    if scores > 300:\n",
    "        scores = 300\n",
    "print(f\"學生分數是{round(scores)}\")"
   ]
  },
  {
   "cell_type": "code",
   "execution_count": null,
   "metadata": {},
   "outputs": [],
   "source": [
    "#請輸入學生分數0~100\n",
    "#0~59不及格\n",
    "#60~79及格\n",
    "#80~100優\n",
    "\n",
    "import pyinputplus as pyip\n",
    "\n",
    "a = pyip.inputInt(\"請輸入學生分數(1~100):\",max=100,min=0)\n",
    "print(a)\n",
    "if a < 60:\n",
    "    print(\"不及格\")\n",
    "else:\n",
    "    if a < 80:\n",
    "        print(\"及格\")\n",
    "    else:\n",
    "        print(\"優\")"
   ]
  },
  {
   "cell_type": "code",
   "execution_count": 8,
   "metadata": {},
   "outputs": [
    {
     "name": "stdout",
     "output_type": "stream",
     "text": [
      "請輸入學生分數:15\n",
      "不及格\n"
     ]
    }
   ],
   "source": [
    "#請輸入學生分數0~100\n",
    "#0~59不及格\n",
    "#60~79及格\n",
    "#80~100優import pyinputplus as pyip\n",
    "import pyinputplus as pyip\n",
    "\n",
    "a = pyip.inputInt(\"請輸入學生分數:\",max=100,min=0)\n",
    "print(a)\n",
    "if(a<60):\n",
    "    print(\"不及格\")\n",
    "elif(a<80):\n",
    "    print(\"及格\")\n",
    "else:\n",
    "    print(\"優\")\n"
   ]
  },
  {
   "cell_type": "code",
   "execution_count": 5,
   "metadata": {},
   "outputs": [
    {
     "name": "stdout",
     "output_type": "stream",
     "text": [
      "請輸入學生分數:75\n",
      "乙\n"
     ]
    }
   ],
   "source": [
    "# 90(含)~100分為「優」\n",
    "# 80(含)~89分為「甲」\n",
    "# 70(含)~79分為「乙」\n",
    "# 60(含)~69分為「丙」\n",
    "# 0(含)~59分為「丁」import pyinputplus as pyip\n",
    "\n",
    "a = pyip.inputInt(\"請輸入學生分數:\",max=100,min=0)\n",
    "print(a)\n",
    "if(a<60):\n",
    "    print(\"丁\")\n",
    "elif(a<70):\n",
    "    print(\"丙\")\n",
    "elif(a<80):\n",
    "    print(\"乙\")\n",
    "elif(a<90):\n",
    "    print(\"甲\")\n",
    "else:\n",
    "    print(\"優\")\n"
   ]
  },
  {
   "cell_type": "code",
   "execution_count": 2,
   "metadata": {},
   "outputs": [
    {
     "name": "stdout",
     "output_type": "stream",
     "text": [
      "請輸入學生分數(1~100):95\n",
      "假\n"
     ]
    }
   ],
   "source": [
    "#作業\n",
    "# 90(含)~100分為「優」\n",
    "# 80(含)~89分為「甲」\n",
    "# 70(含)~79分為「乙」\n",
    "# 60(含)~69分為「丙」\n",
    "# 0(含)~59分為「丁」\n",
    "\n",
    "import pyinputplus as pyip\n",
    "\n",
    "a = pyip.inputInt(\"請輸入學生分數(1~100):\",max=100,min=0)\n",
    "print(a)\n",
    "#多項選擇\n",
    "if (a >= 90):\n",
    "    print(\"優\")\n",
    "elif(a>=80):\n",
    "    print(\"甲\")\n",
    "elif(a>=70):\n",
    "    print(\"乙\")\n",
    "elif(a>=60):\n",
    "    print(\"丙\")\n",
    "else:\n",
    "    print(\"丁\")\n"
   ]
  },
  {
   "cell_type": "code",
   "execution_count": 9,
   "metadata": {},
   "outputs": [
    {
     "name": "stdout",
     "output_type": "stream",
     "text": [
      "請輸入購買金額:130000\n",
      "實付金額是:104000.0\n"
     ]
    }
   ],
   "source": [
    "import pyinputplus as pyip\n",
    "\n",
    "a=pyip.inputInt(\"請輸入購買金額:\")\n",
    "print(a)\n",
    "\n",
    "if(a>=100000):\n",
    "    a=a*0.8\n",
    "    print(f\"實付金額是:{a}\")\n",
    "elif(a>50000):\n",
    "    a=a*0.85\n",
    "    print(f\"實付金額是:{a}\")\n",
    "elif(a>30000):\n",
    "    a=a*0.9\n",
    "    print(f\"實付金額是:{a}\")\n",
    "else:\n",
    "    a=a*0.95\n",
    "    print(f\"實付金額是:{a}\")\n"
   ]
  }
 ],
 "metadata": {
  "kernelspec": {
   "display_name": "Python 3",
   "language": "python",
   "name": "python3"
  },
  "language_info": {
   "codemirror_mode": {
    "name": "ipython",
    "version": 3
   },
   "file_extension": ".py",
   "mimetype": "text/x-python",
   "name": "python",
   "nbconvert_exporter": "python",
   "pygments_lexer": "ipython3",
   "version": "3.10.13"
  }
 },
 "nbformat": 4,
 "nbformat_minor": 2
}
