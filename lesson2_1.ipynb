{
 "cells": [
  {
   "cell_type": "code",
   "execution_count": 4,
   "metadata": {},
   "outputs": [
    {
     "data": {
      "text/plain": [
       "1"
      ]
     },
     "execution_count": 4,
     "metadata": {},
     "output_type": "execute_result"
    }
   ],
   "source": [
    "n=int(input(\"請輸入n的值:\"))\n",
    "m=int(input(\"請輸入m的值:\"))\n",
    "a=n-m\n",
    "a"
   ]
  },
  {
   "cell_type": "code",
   "execution_count": 1,
   "metadata": {},
   "outputs": [
    {
     "name": "stdout",
     "output_type": "stream",
     "text": [
      "5 = 4 = 1\n"
     ]
    }
   ],
   "source": [
    "\n",
    "n=eval(input(\"請輸入n的值:\"))\n",
    "m=eval(input(\"請輸入m的值:\"))\n",
    "a=n-m\n",
    "\n",
    "print(n,\"+\",m,\"=\",a)"
   ]
  },
  {
   "cell_type": "code",
   "execution_count": 3,
   "metadata": {},
   "outputs": [
    {
     "name": "stdout",
     "output_type": "stream",
     "text": [
      "5+1=4.00\n"
     ]
    }
   ],
   "source": [
    "n=eval(input(\"請輸入n的值:\"))\n",
    "m=eval(input(\"請輸入m的值:\"))\n",
    "a=n-m\n",
    "\n",
    "print(f\"{n}+{m}={a:.2f}\")"
   ]
  },
  {
   "cell_type": "code",
   "execution_count": 6,
   "metadata": {},
   "outputs": [
    {
     "name": "stdout",
     "output_type": "stream",
     "text": [
      "3\n",
      "3 3.152 4\n"
     ]
    }
   ],
   "source": [
    "print(3)\n",
    "print(\"3\",3.152,4)"
   ]
  }
 ],
 "metadata": {
  "kernelspec": {
   "display_name": "Python 3",
   "language": "python",
   "name": "python3"
  },
  "language_info": {
   "codemirror_mode": {
    "name": "ipython",
    "version": 3
   },
   "file_extension": ".py",
   "mimetype": "text/x-python",
   "name": "python",
   "nbconvert_exporter": "python",
   "pygments_lexer": "ipython3",
   "version": "3.10.13"
  }
 },
 "nbformat": 4,
 "nbformat_minor": 2
}
