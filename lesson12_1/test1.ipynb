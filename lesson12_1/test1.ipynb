{
 "cells": [
  {
   "cell_type": "code",
   "execution_count": 1,
   "metadata": {},
   "outputs": [],
   "source": [
    "stu1 = {\n",
    "    '姓名':'陳怡伶',\n",
    "    '國文':89,\n",
    "    '英文':92,\n",
    "    '數學':83,\n",
    "    '地理':91,\n",
    "    '歷史':65,\n",
    "    }\n",
    "\n",
    "stu2 = {\n",
    "    '姓名':'馮芳如',\n",
    "    '國文':92,\n",
    "    '英文':75,\n",
    "    '數學':92,\n",
    "    '地理':89,\n",
    "    '歷史':77,\n",
    "    }"
   ]
  },
  {
   "cell_type": "code",
   "execution_count": 2,
   "metadata": {},
   "outputs": [
    {
     "data": {
      "text/plain": [
       "[{'姓名': '陳怡伶', '國文': 89, '英文': 92, '數學': 83, '地理': 91, '歷史': 65},\n",
       " {'姓名': '馮芳如', '國文': 92, '英文': 75, '數學': 92, '地理': 89, '歷史': 77}]"
      ]
     },
     "execution_count": 2,
     "metadata": {},
     "output_type": "execute_result"
    }
   ],
   "source": [
    "students = [stu1,stu2]\n",
    "students\n"
   ]
  },
  {
   "cell_type": "code",
   "execution_count": 16,
   "metadata": {},
   "outputs": [
    {
     "data": {
      "text/plain": [
       "[{'姓名': '王雅慧', '國文': 83, '英文': 96, '數學': 45, '地理': 80, '歷史': 75},\n",
       " {'姓名': '林希啟', '國文': 60, '英文': 82, '數學': 72, '地理': 52, '歷史': 73},\n",
       " {'姓名': '王筱婷', '國文': 58, '英文': 81, '數學': 45, '地理': 49, '歷史': 53},\n",
       " {'姓名': '陳淑萍', '國文': 87, '英文': 46, '數學': 49, '地理': 78, '歷史': 70},\n",
       " {'姓名': '蔡明平', '國文': 63, '英文': 94, '數學': 56, '地理': 86, '歷史': 91}]"
      ]
     },
     "execution_count": 16,
     "metadata": {},
     "output_type": "execute_result"
    }
   ],
   "source": [
    "from random import randint,choices\n",
    "\n",
    "def getStudents(nums:int) -> list[dict]:\n",
    "    students:list[dict]=[]\n",
    "    with open('names.txt',mode='r',encoding='utf-8') as file:\n",
    "        names:str = file.read()\n",
    "    nameList:list[str] = names.split('\\n')\n",
    "    names:list[str]=choices(nameList,k=nums)\n",
    "    \n",
    "    for i in range(nums):\n",
    "        stu = {\n",
    "        '姓名':names[i],\n",
    "        '國文':randint(45,100),\n",
    "        '英文':randint(45,100),\n",
    "        '數學':randint(45,100),\n",
    "        '地理':randint(45,100),\n",
    "        '歷史':randint(45,100),\n",
    "        }\n",
    "        students.append(stu)\n",
    "    \n",
    "    \n",
    "    return students\n",
    "\n",
    "students=getStudents(5)\n",
    "students"
   ]
  },
  {
   "cell_type": "code",
   "execution_count": 17,
   "metadata": {},
   "outputs": [
    {
     "name": "stdout",
     "output_type": "stream",
     "text": [
      "請輸入學生的人數(1~50):25\n"
     ]
    },
    {
     "data": {
      "text/plain": [
       "[{'姓名': '白美珍', '國文': 53, '英文': 67, '數學': 58, '地理': 59, '歷史': 67},\n",
       " {'姓名': '劉佳佩', '國文': 52, '英文': 97, '數學': 100, '地理': 47, '歷史': 58},\n",
       " {'姓名': '吳明妮', '國文': 68, '英文': 73, '數學': 80, '地理': 74, '歷史': 66},\n",
       " {'姓名': '陳美惠', '國文': 48, '英文': 89, '數學': 59, '地理': 56, '歷史': 75},\n",
       " {'姓名': '陳建豪', '國文': 80, '英文': 59, '數學': 57, '地理': 80, '歷史': 82},\n",
       " {'姓名': '程玫靖', '國文': 58, '英文': 62, '數學': 77, '地理': 56, '歷史': 52},\n",
       " {'姓名': '林志成', '國文': 76, '英文': 53, '數學': 52, '地理': 85, '歷史': 63},\n",
       " {'姓名': '林建宏', '國文': 67, '英文': 84, '數學': 83, '地理': 65, '歷史': 68},\n",
       " {'姓名': '李慈啟', '國文': 57, '英文': 65, '數學': 70, '地理': 84, '歷史': 59},\n",
       " {'姓名': '張凡成', '國文': 67, '英文': 63, '數學': 49, '地理': 93, '歷史': 74},\n",
       " {'姓名': '陳凱翔', '國文': 99, '英文': 73, '數學': 99, '地理': 85, '歷史': 59},\n",
       " {'姓名': '林玉佩', '國文': 91, '英文': 47, '數學': 91, '地理': 45, '歷史': 98},\n",
       " {'姓名': '楊韋廷', '國文': 84, '英文': 80, '數學': 95, '地理': 89, '歷史': 62},\n",
       " {'姓名': '蘇婷婷', '國文': 95, '英文': 81, '數學': 87, '地理': 48, '歷史': 87},\n",
       " {'姓名': '崔孝憲', '國文': 86, '英文': 83, '數學': 51, '地理': 73, '歷史': 60},\n",
       " {'姓名': '謝貞妃', '國文': 79, '英文': 84, '數學': 87, '地理': 52, '歷史': 64},\n",
       " {'姓名': '周芷蓁', '國文': 51, '英文': 83, '數學': 79, '地理': 100, '歷史': 93},\n",
       " {'姓名': '李慈啟', '國文': 67, '英文': 80, '數學': 49, '地理': 89, '歷史': 48},\n",
       " {'姓名': '張天亨', '國文': 51, '英文': 55, '數學': 73, '地理': 68, '歷史': 57},\n",
       " {'姓名': '林志喜', '國文': 47, '英文': 95, '數學': 86, '地理': 86, '歷史': 83},\n",
       " {'姓名': '鄧哲榮', '國文': 95, '英文': 94, '數學': 68, '地理': 85, '歷史': 75},\n",
       " {'姓名': '李政成', '國文': 83, '英文': 79, '數學': 47, '地理': 56, '歷史': 63},\n",
       " {'姓名': '高俊男', '國文': 74, '英文': 85, '數學': 59, '地理': 79, '歷史': 81},\n",
       " {'姓名': '林詠斌', '國文': 85, '英文': 88, '數學': 51, '地理': 65, '歷史': 98},\n",
       " {'姓名': '王怡君', '國文': 84, '英文': 67, '數學': 79, '地理': 87, '歷史': 100}]"
      ]
     },
     "execution_count": 17,
     "metadata": {},
     "output_type": "execute_result"
    }
   ],
   "source": [
    "import pyinputplus as pyip\n",
    "\n",
    "s_nums:int = pyip.inputInt(\"請輸入學生的人數(1~50):\",min=1,max=50)\n",
    "print(s_nums)\n",
    "students=getStudents(s_nums)\n",
    "students"
   ]
  },
  {
   "cell_type": "code",
   "execution_count": 19,
   "metadata": {},
   "outputs": [
    {
     "name": "stdout",
     "output_type": "stream",
     "text": [
      "寫入成功\n"
     ]
    }
   ],
   "source": [
    "import csv\n",
    "from csv import DictWriter\n",
    "\n",
    "def save_to_csv(students:list[dict],fileName:str)->None:    \n",
    "    fileNameWithExtension:str = fileName + '.csv'\n",
    "    with open(fileNameWithExtension,mode='w',encoding='utf-8',newline='') as file:\n",
    "        fieldnames:dict[str]= ['姓名', '國文', '英文', '數學', '地理', '歷史']\n",
    "        writer:DictWriter = csv.DictWriter(file,fieldnames=fieldnames)#csv.DictWriter說明書https://docs.python.org/zh-tw/3/library/csv.html?highlight=csv#module-csv\n",
    "        writer.writeheader()\n",
    "        writer.writerows(students)\n",
    "    print(\"寫入成功\")\n",
    "\n",
    "\n",
    "save_to_csv(students,'class2')"
   ]
  }
 ],
 "metadata": {
  "kernelspec": {
   "display_name": "Python 3",
   "language": "python",
   "name": "python3"
  },
  "language_info": {
   "codemirror_mode": {
    "name": "ipython",
    "version": 3
   },
   "file_extension": ".py",
   "mimetype": "text/x-python",
   "name": "python",
   "nbconvert_exporter": "python",
   "pygments_lexer": "ipython3",
   "version": "3.10.13"
  }
 },
 "nbformat": 4,
 "nbformat_minor": 2
}
