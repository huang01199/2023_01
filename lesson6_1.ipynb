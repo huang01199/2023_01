{
 "cells": [
  {
   "cell_type": "code",
   "execution_count": 4,
   "metadata": {},
   "outputs": [
    {
     "name": "stdout",
     "output_type": "stream",
     "text": [
      "成年\n"
     ]
    }
   ],
   "source": [
    "age = 18\n",
    "\n",
    "if age >= 18:\n",
    "    print(\"成年\")\n",
    "else:\n",
    "    print(\"未成年\")"
   ]
  },
  {
   "cell_type": "code",
   "execution_count": 5,
   "metadata": {},
   "outputs": [
    {
     "name": "stdout",
     "output_type": "stream",
     "text": [
      "成年\n"
     ]
    }
   ],
   "source": [
    "#not 運算子 not=反向判斷\n",
    "\n",
    "age = 18\n",
    "\n",
    "if not age >= 18:\n",
    "    print(\"未成年\")\n",
    "else:\n",
    "    print(\"成年\")\n",
    "    "
   ]
  },
  {
   "cell_type": "code",
   "execution_count": 10,
   "metadata": {},
   "outputs": [
    {
     "name": "stdout",
     "output_type": "stream",
     "text": [
      "請輸入國文分數:10\n",
      "請輸入數學分數:20\n",
      "獎金:0\n"
     ]
    }
   ],
   "source": [
    "#國文分數100同時數學100,獎金1000\n",
    "#國文分數100或者數學100,獎金500\n",
    "#使用巢狀判斷\n",
    "\n",
    "import pyinputplus as pyip\n",
    "a=pyip.inputInt(\"請輸入國文分數:\",min=0,max=100)\n",
    "print(a)\n",
    "b=pyip.inputInt(\"請輸入數學分數:\",min=0,max=100)\n",
    "print(b)\n",
    "if(a==100):\n",
    "    if(b==100):\n",
    "        c=1000\n",
    "    else:\n",
    "        c=500\n",
    "elif(b==100):\n",
    "    c=500\n",
    "else:\n",
    "    c=0\n",
    "print(f\"獎金:{c}\")\n"
   ]
  },
  {
   "cell_type": "code",
   "execution_count": 12,
   "metadata": {},
   "outputs": [
    {
     "name": "stdout",
     "output_type": "stream",
     "text": [
      "請輸入國文分數:100\n",
      "請輸入數學分數:100\n",
      "獎金:1000\n"
     ]
    }
   ],
   "source": [
    "#國文分數100同時數學100,獎金1000\n",
    "#國文分數100或者數學100,獎金500\n",
    "#使用邏輯運算子\n",
    "import pyinputplus as pyip\n",
    "a=pyip.inputInt(\"請輸入國文分數:\",min=0,max=100)\n",
    "print(a)\n",
    "b=pyip.inputInt(\"請輸入數學分數:\",min=0,max=100)\n",
    "print(b)\n",
    "\n",
    "if (a==100&b==100):\n",
    "    c=1000\n",
    "elif a==100|b==100:\n",
    "    c=500\n",
    "else:\n",
    "    c=0\n",
    "print(f\"獎金:{c}\")"
   ]
  },
  {
   "cell_type": "code",
   "execution_count": 50,
   "metadata": {},
   "outputs": [
    {
     "name": "stdout",
     "output_type": "stream",
     "text": [
      "請輸入身高(公分):165\n",
      "請輸入體重(公斤):70\n",
      "你的BMI是:25.7\n",
      "你的體重過重\n"
     ]
    }
   ],
   "source": [
    "import pyinputplus as pyip\n",
    "a=pyip.inputInt(\"請輸入身高(公分):\")\n",
    "print(a)\n",
    "b=pyip.inputInt(\"請輸入體重(公斤):\")\n",
    "print(b)\n",
    "\n",
    "a=a/100\n",
    "c=b/(a*a)\n",
    "print(f\"你的BMI是:{c:.1f}\")\n",
    "\n",
    "if(c<18.5):\n",
    "    print(\"你的體重過輕\")\n",
    "elif (c<24 and c>=18.5):\n",
    "    print(\"你的體重正常\")\n",
    "elif (c>=24 and c<27):\n",
    "    print(\"你的體重過重\")\n",
    "elif(c<30 and c>=27):\n",
    "    print(\"輕度肥胖\")\n",
    "elif(c<35 and c>=30):\n",
    "    print(\"中度肥胖\")\n",
    "else:\n",
    "    print(\"重度肥胖\")\n"
   ]
  },
  {
   "cell_type": "code",
   "execution_count": null,
   "metadata": {},
   "outputs": [],
   "source": []
  }
 ],
 "metadata": {
  "kernelspec": {
   "display_name": "Python 3",
   "language": "python",
   "name": "python3"
  },
  "language_info": {
   "codemirror_mode": {
    "name": "ipython",
    "version": 3
   },
   "file_extension": ".py",
   "mimetype": "text/x-python",
   "name": "python",
   "nbconvert_exporter": "python",
   "pygments_lexer": "ipython3",
   "version": "3.10.13"
  }
 },
 "nbformat": 4,
 "nbformat_minor": 2
}
