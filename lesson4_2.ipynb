{
 "cells": [
  {
   "cell_type": "code",
   "execution_count": 2,
   "metadata": {},
   "outputs": [
    {
     "name": "stdout",
     "output_type": "stream",
     "text": [
      "此為真\n",
      "a較大\n",
      "結束\n"
     ]
    }
   ],
   "source": [
    "a = 25\n",
    "if a >18:\n",
    "    print(\"此為真\")\n",
    "    print(\"a較大\")\n",
    "print(\"結束\")"
   ]
  },
  {
   "cell_type": "code",
   "execution_count": 3,
   "metadata": {},
   "outputs": [
    {
     "name": "stdout",
     "output_type": "stream",
     "text": [
      "結束\n"
     ]
    }
   ],
   "source": [
    "a=25\n",
    "if a>26:\n",
    "    print(\"此為真\")\n",
    "    print(\"a較大\")\n",
    "print(\"結束\")\n"
   ]
  },
  {
   "cell_type": "code",
   "execution_count": 5,
   "metadata": {},
   "outputs": [
    {
     "name": "stdout",
     "output_type": "stream",
     "text": [
      "你還沒成年\n",
      "你的年齡是:5\n"
     ]
    }
   ],
   "source": [
    "a=int(input(\"請輸入年齡\"))\n",
    "\n",
    "if a>=18:\n",
    "    print(\"你已經成年\")\n",
    "else:\n",
    "    print(\"你還沒成年\")\n",
    "\n",
    "print(f\"你的年齡是:{a}\")"
   ]
  },
  {
   "cell_type": "code",
   "execution_count": 12,
   "metadata": {},
   "outputs": [
    {
     "name": "stdout",
     "output_type": "stream",
     "text": [
      "學生分數是:270\n"
     ]
    }
   ],
   "source": [
    "#學生總分為300\n",
    "#檢查學生輸入分數是<=300\n",
    "#有些學生可以加分5%\n",
    "#如果加分後超過300分，就已300分為準\n",
    "\n",
    "a=int(input(\"請輸入學生分數(最高300分):\"))\n",
    "\n",
    "if(a<=300):\n",
    "    b=input(\"學生是否符合加分條件?(y,n)\")\n",
    "\n",
    "    if(b==\"y\"):\n",
    "        a*=1.05\n",
    "        if(a>300):\n",
    "            a=300\n",
    "    print(f\"學生分數是:{round(a)}\")#round傳回浮點數的四捨五入\n",
    "else:\n",
    "    print(\"學生分數不能大於300\")\n",
    "     \n",
    "\n",
    "\n",
    "\n",
    "#print(f\"學生分數是:{a:.0f}\")#四捨五入\n",
    "#print(f\"學生分數是: {int(a)}\")#無條件捨去\n",
    "\n",
    "\n",
    "\n",
    "    "
   ]
  }
 ],
 "metadata": {
  "kernelspec": {
   "display_name": "Python 3",
   "language": "python",
   "name": "python3"
  },
  "language_info": {
   "codemirror_mode": {
    "name": "ipython",
    "version": 3
   },
   "file_extension": ".py",
   "mimetype": "text/x-python",
   "name": "python",
   "nbconvert_exporter": "python",
   "pygments_lexer": "ipython3",
   "version": "3.10.13"
  }
 },
 "nbformat": 4,
 "nbformat_minor": 2
}
