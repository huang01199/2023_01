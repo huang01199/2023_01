{
 "cells": [
  {
   "cell_type": "code",
   "execution_count": 2,
   "metadata": {},
   "outputs": [
    {
     "name": "stdout",
     "output_type": "stream",
     "text": [
      "hello\n",
      "hello\n",
      "hello\n"
     ]
    }
   ],
   "source": [
    "#沒有參數,沒有傳出值\n",
    "\n",
    "def sayHello():#使用def 關鍵字來定義函數，sayHello是自己創的函數，下方是自創函數的內容\n",
    "    print(\"hello\")\n",
    "\n",
    "#function可以重覆呼叫\n",
    "sayHello()\n",
    "sayHello()\n",
    "sayHello()"
   ]
  },
  {
   "cell_type": "code",
   "execution_count": 1,
   "metadata": {},
   "outputs": [
    {
     "name": "stdout",
     "output_type": "stream",
     "text": [
      "==========猜數字遊戲============\n",
      "猜數字範圍1~100:50\n",
      "再小一點\n",
      "您已經猜了1次\n",
      "=================\n",
      "猜數字範圍1~49:35\n",
      "再小一點\n",
      "您已經猜了2次\n",
      "=================\n",
      "猜數字範圍1~34:Blank values are not allowed.\n",
      "猜數字範圍1~34:25\n",
      "再小一點\n",
      "您已經猜了3次\n",
      "=================\n",
      "猜數字範圍1~24:Blank values are not allowed.\n",
      "猜數字範圍1~24:15\n",
      "再小一點\n",
      "您已經猜了4次\n",
      "=================\n",
      "猜數字範圍1~14:10\n",
      "再小一點\n",
      "您已經猜了5次\n",
      "=================\n",
      "猜數字範圍1~9:Blank values are not allowed.\n",
      "猜數字範圍1~9:5\n",
      "再小一點\n",
      "您已經猜了6次\n",
      "=================\n",
      "猜數字範圍1~4:3\n",
      "再小一點\n",
      "您已經猜了7次\n",
      "=================\n",
      "猜數字範圍1~2:2\n",
      "猜對了,答案是:2\n",
      "您猜了8次\n",
      "請問還要繼續嗎?(y,n)遊戲結束\n"
     ]
    }
   ],
   "source": [
    "import pyinputplus as pyip\n",
    "import random\n",
    "\n",
    "def playGame():\n",
    "    min = 1\n",
    "    max = 100\n",
    "   \n",
    "    c = 0\n",
    "    a = random.randint(min,max)\n",
    "   \n",
    "    print(\"==========猜數字遊戲============\")\n",
    "    \n",
    "    while True:\n",
    "        c=c+1\n",
    "\n",
    "        b = pyip.inputInt(f\"猜數字範圍{min}~{max}:\")#pyip.inputInt()是隨機輸出數字的函數\n",
    "        print(b)\n",
    "        \n",
    "        if b == a:\n",
    "            print(f\"猜對了,答案是:{a}\")\n",
    "            print(f\"您猜了{c}次\")\n",
    "            break\n",
    "        elif b > a:\n",
    "            print(\"再小一點\")\n",
    "            max = b - 1\n",
    "        elif b < a:\n",
    "            print(\"再大一點\")\n",
    "            min = b + 1\n",
    "        \n",
    "        print(f\"您已經猜了{c}次\")\n",
    "        \n",
    "        print(\"=================\")\n",
    "        \n",
    "               \n",
    "\n",
    "while(True):\n",
    "    playGame()\n",
    "    d=pyip.inputYesNo(\"請問還要繼續嗎?(y,n)\")\n",
    "    if(d==\"no\"):\n",
    "        break\n",
    "print(\"遊戲結束\")\n",
    "        \n",
    "        \n",
    "        "
   ]
  }
 ],
 "metadata": {
  "kernelspec": {
   "display_name": "Python 3",
   "language": "python",
   "name": "python3"
  },
  "language_info": {
   "codemirror_mode": {
    "name": "ipython",
    "version": 3
   },
   "file_extension": ".py",
   "mimetype": "text/x-python",
   "name": "python",
   "nbconvert_exporter": "python",
   "pygments_lexer": "ipython3",
   "version": "3.10.13"
  }
 },
 "nbformat": 4,
 "nbformat_minor": 2
}
