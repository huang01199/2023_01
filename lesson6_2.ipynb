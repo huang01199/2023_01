{
 "cells": [
  {
   "cell_type": "code",
   "execution_count": 1,
   "metadata": {},
   "outputs": [
    {
     "name": "stdout",
     "output_type": "stream",
     "text": [
      "1加10的加總是55\n"
     ]
    }
   ],
   "source": [
    "#1...10相加的加總\n",
    "\n",
    "value = 0\n",
    "value += 1\n",
    "value += 2\n",
    "value += 3\n",
    "value += 4\n",
    "value += 5\n",
    "value += 6\n",
    "value += 7\n",
    "value += 8\n",
    "value += 9\n",
    "value += 10\n",
    "\n",
    "print(f\"1加10的加總是{value}\")"
   ]
  },
  {
   "cell_type": "code",
   "execution_count": 2,
   "metadata": {},
   "outputs": [
    {
     "data": {
      "text/plain": [
       "range(1, 10, 2)"
      ]
     },
     "execution_count": 2,
     "metadata": {},
     "output_type": "execute_result"
    }
   ],
   "source": [
    "range(10)\n",
    "range(1,10)\n",
    "range(1,10,2)"
   ]
  },
  {
   "cell_type": "code",
   "execution_count": 3,
   "metadata": {},
   "outputs": [
    {
     "name": "stdout",
     "output_type": "stream",
     "text": [
      "1\n",
      "2\n",
      "3\n",
      "4\n",
      "5\n",
      "6\n",
      "7\n",
      "8\n",
      "9\n"
     ]
    }
   ],
   "source": [
    "for i in range(1,10):\n",
    "    print(i)"
   ]
  },
  {
   "cell_type": "code",
   "execution_count": 4,
   "metadata": {},
   "outputs": [
    {
     "name": "stdout",
     "output_type": "stream",
     "text": [
      "1加10的加總是55\n"
     ]
    }
   ],
   "source": [
    "#1...10相加的加總\n",
    "#明確知道執行的次數\n",
    "value = 0\n",
    "for i in range(1,11):\n",
    "    value += i\n",
    "\n",
    "print(f\"1加10的加總是{value}\")"
   ]
  },
  {
   "cell_type": "code",
   "execution_count": 52,
   "metadata": {},
   "outputs": [
    {
     "name": "stdout",
     "output_type": "stream",
     "text": [
      "1\n",
      "2\n",
      "3\n",
      "4\n",
      "5\n",
      "6\n",
      "7\n",
      "8\n",
      "9\n",
      "10\n"
     ]
    }
   ],
   "source": [
    "\n",
    "c=0\n",
    "for i in range(1,10+1,+1):\n",
    "    print(i)\n",
    "\n"
   ]
  },
  {
   "cell_type": "code",
   "execution_count": 9,
   "metadata": {},
   "outputs": [
    {
     "name": "stdout",
     "output_type": "stream",
     "text": [
      "請輸入起始值:30\n",
      "請輸入結束值:65\n",
      "從30至65的加總是1710\n"
     ]
    }
   ],
   "source": [
    "import pyinputplus as pyip\n",
    "\n",
    "a = pyip.inputInt('請輸入起始值:')\n",
    "print(a)\n",
    "b = pyip.inputInt(\"請輸入結束值:\")\n",
    "print(b)\n",
    "\n",
    "value = 0\n",
    "for i in range(a,b+1):\n",
    "    value += i\n",
    "\n",
    "print(f\"從{a}至{b}的加總是{value}\")"
   ]
  },
  {
   "cell_type": "code",
   "execution_count": 21,
   "metadata": {},
   "outputs": [
    {
     "name": "stdout",
     "output_type": "stream",
     "text": [
      "i=1\n",
      "j=1 j=2 j=3 j=4 j=5 j=6 j=7 j=8 j=9 j=10 \n",
      "=======\n",
      "i=2\n",
      "j=1 j=2 j=3 j=4 j=5 j=6 j=7 j=8 j=9 j=10 \n",
      "=======\n",
      "i=3\n",
      "j=1 j=2 j=3 j=4 j=5 j=6 j=7 j=8 j=9 j=10 \n",
      "=======\n",
      "i=4\n",
      "j=1 j=2 j=3 j=4 j=5 j=6 j=7 j=8 j=9 j=10 \n",
      "=======\n",
      "i=5\n",
      "j=1 j=2 j=3 j=4 j=5 j=6 j=7 j=8 j=9 j=10 \n",
      "=======\n",
      "i=6\n",
      "j=1 j=2 j=3 j=4 j=5 j=6 j=7 j=8 j=9 j=10 \n",
      "=======\n",
      "i=7\n",
      "j=1 j=2 j=3 j=4 j=5 j=6 j=7 j=8 j=9 j=10 \n",
      "=======\n",
      "i=8\n",
      "j=1 j=2 j=3 j=4 j=5 j=6 j=7 j=8 j=9 j=10 \n",
      "=======\n",
      "i=9\n",
      "j=1 j=2 j=3 j=4 j=5 j=6 j=7 j=8 j=9 j=10 \n",
      "=======\n"
     ]
    }
   ],
   "source": [
    "#巢狀迴圈\n",
    "for i in range(1,10):\n",
    "    print(f\"i={i}\")\n",
    "    for j in range(1,11):\n",
    "        print(f\"j={j}\",end=\" \")#end=\" \"是不換行，空一格\n",
    "    print()#換行\n",
    "    print(\"=======\")"
   ]
  },
  {
   "cell_type": "code",
   "execution_count": 39,
   "metadata": {},
   "outputs": [
    {
     "name": "stdout",
     "output_type": "stream",
     "text": [
      "1 * 1= 1  1 * 2= 2  1 * 3= 3  1 * 4= 4  1 * 5= 5  1 * 6= 6  1 * 7= 7  1 * 8= 8  1 * 9= 9  \n",
      "2 * 1= 2  2 * 2= 4  2 * 3= 6  2 * 4= 8  2 * 5=10  2 * 6=12  2 * 7=14  2 * 8=16  2 * 9=18  \n",
      "3 * 1= 3  3 * 2= 6  3 * 3= 9  3 * 4=12  3 * 5=15  3 * 6=18  3 * 7=21  3 * 8=24  3 * 9=27  \n",
      "4 * 1= 4  4 * 2= 8  4 * 3=12  4 * 4=16  4 * 5=20  4 * 6=24  4 * 7=28  4 * 8=32  4 * 9=36  \n",
      "5 * 1= 5  5 * 2=10  5 * 3=15  5 * 4=20  5 * 5=25  5 * 6=30  5 * 7=35  5 * 8=40  5 * 9=45  \n",
      "6 * 1= 6  6 * 2=12  6 * 3=18  6 * 4=24  6 * 5=30  6 * 6=36  6 * 7=42  6 * 8=48  6 * 9=54  \n",
      "7 * 1= 7  7 * 2=14  7 * 3=21  7 * 4=28  7 * 5=35  7 * 6=42  7 * 7=49  7 * 8=56  7 * 9=63  \n",
      "8 * 1= 8  8 * 2=16  8 * 3=24  8 * 4=32  8 * 5=40  8 * 6=48  8 * 7=56  8 * 8=64  8 * 9=72  \n",
      "9 * 1= 9  9 * 2=18  9 * 3=27  9 * 4=36  9 * 5=45  9 * 6=54  9 * 7=63  9 * 8=72  9 * 9=81  \n"
     ]
    }
   ],
   "source": [
    "#99乘法\n",
    "for i in range(1,10,+1):\n",
    "    for j in range(1,10,+1):\n",
    "        print(f\"{i:<2d}*{j:2d}={i*j:2d}\",end=\"  \")#end=\" \"是不換行，空一格，<2d是靠左空兩格，2d是靠右空兩格\n",
    "    print()#換行\n",
    "    "
   ]
  },
  {
   "cell_type": "code",
   "execution_count": 45,
   "metadata": {},
   "outputs": [
    {
     "name": "stdout",
     "output_type": "stream",
     "text": [
      "請輸入整數，求所有因數:30\n",
      "30的因數有:1 2 3 5 6 10 15 30 "
     ]
    }
   ],
   "source": [
    "import pyinputplus as pyip\n",
    "\n",
    "a = pyip.inputInt(\"請輸入整數，求所有因數:\")\n",
    "print(a)\n",
    "print(f\"{a}的因數有:\",end=\"\")\n",
    "for i in range(1,a+1,+1):\n",
    "    b=a%i\n",
    "    if(b==0):\n",
    "        print(i,end=\" \")\n",
    "\n"
   ]
  },
  {
   "cell_type": "code",
   "execution_count": 48,
   "metadata": {},
   "outputs": [
    {
     "name": "stdout",
     "output_type": "stream",
     "text": [
      "55\n"
     ]
    }
   ],
   "source": [
    "#while明確知道執行的次數\n",
    "\n",
    "a = 0\n",
    "i = 1\n",
    "while i<=10:\n",
    "    a += i\n",
    "    i += 1\n",
    "    \n",
    "print(a)"
   ]
  }
 ],
 "metadata": {
  "kernelspec": {
   "display_name": "Python 3",
   "language": "python",
   "name": "python3"
  },
  "language_info": {
   "codemirror_mode": {
    "name": "ipython",
    "version": 3
   },
   "file_extension": ".py",
   "mimetype": "text/x-python",
   "name": "python",
   "nbconvert_exporter": "python",
   "pygments_lexer": "ipython3",
   "version": "3.10.13"
  }
 },
 "nbformat": 4,
 "nbformat_minor": 2
}
