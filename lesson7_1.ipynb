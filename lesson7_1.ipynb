{
 "cells": [
  {
   "cell_type": "code",
   "execution_count": 2,
   "metadata": {},
   "outputs": [
    {
     "name": "stdout",
     "output_type": "stream",
     "text": [
      "請輸入第1月份存款:3000\n",
      "請輸入第2月份存款:4000\n",
      "請輸入第3月份存款:500\n",
      "請輸入第4月份存款:6000\n",
      "請輸入第5月份存款:8000\n",
      "請輸入第6月份存款:10000\n",
      "恭喜!已經存夠了,共存了6月份,總存款為:31500\n"
     ]
    }
   ],
   "source": [
    "#小明想要存錢買一輛機車,機車每輛30000元，他將每月存的錢輸入，當存款足夠買機車時，就顯示提示訊息告知。\n",
    "import pyinputplus as pyip\n",
    "\n",
    "a = 0\n",
    "c = 0\n",
    "while (a < 30000):\n",
    "    c=c+1\n",
    "    b = pyip.inputInt(f\"請輸入第{c}月份存款:\")    \n",
    "    print(b)\n",
    "    a=a+b\n",
    "\n",
    "print(f\"恭喜!已經存夠了,共存了{c}月份,總存款為:{a}\")\n"
   ]
  },
  {
   "cell_type": "code",
   "execution_count": 4,
   "metadata": {},
   "outputs": [
    {
     "name": "stdout",
     "output_type": "stream",
     "text": [
      "請輸入小寫英文字[按q會離開]:Tawin\n",
      "請輸入小寫英文字[按q會離開]:Japan\n",
      "請輸入小寫英文字[按q會離開]:Taipei\n",
      "請輸入小寫英文字[按q會離開]:結束程式\n"
     ]
    }
   ],
   "source": [
    "#輸入小寫的英文字,列印出第一個字大寫的英文字\n",
    "#如果輸入q,就會離開\n",
    "a = pyip.inputStr(\"請輸入小寫英文字[按q會離開]:\")\n",
    "while(a != 'q'):\n",
    "    print(a.capitalize())#a.capitalize()把字串第一個字變大寫，其他小寫\n",
    "    a = pyip.inputStr(\"請輸入小寫英文字[按q會離開]:\")\n",
    "    \n",
    "print(\"結束程式\")\n"
   ]
  },
  {
   "cell_type": "code",
   "execution_count": 5,
   "metadata": {},
   "outputs": [
    {
     "name": "stdout",
     "output_type": "stream",
     "text": [
      "請輸入小寫英文字[按q會離開]:Tawin\n",
      "請輸入小寫英文字[按q會離開]:Japan\n",
      "請輸入小寫英文字[按q會離開]:結束程式\n"
     ]
    }
   ],
   "source": [
    "#輸入小寫的英文字,列印出第一個字大寫的英文字\n",
    "#如果輸入q,就會離開\n",
    "\n",
    "while(True):\n",
    "    a = pyip.inputStr(\"請輸入小寫英文字[按q會離開]:\")\n",
    "    if(a==\"q\"):\n",
    "        break\n",
    "    else:\n",
    "        print(a.capitalize())#a.capitalize()把字串第一個字變大寫，其他小寫\n",
    "\n",
    "print(\"結束程式\")"
   ]
  },
  {
   "cell_type": "code",
   "execution_count": 8,
   "metadata": {},
   "outputs": [
    {
     "name": "stdout",
     "output_type": "stream",
     "text": [
      "請輸入第1位學生成績:(輸入負數結束程式)100\n",
      "請輸入第2位學生成績:(輸入負數結束程式)100\n",
      "請輸入第3位學生成績:(輸入負數結束程式)-1\n",
      "全班總成績為:200，平均為:100.0\n"
     ]
    }
   ],
   "source": [
    "#小美是一位教師，請你以while迴圈方式為小美設計一個輸入成績的程式，如果輸入負數表示成績輸入結束，在輸入成績結束後顯示班上總成績及平均成績。\n",
    "b=0\n",
    "c=0\n",
    "\n",
    "while(True):\n",
    "    \n",
    "    a=pyip.inputInt(f\"請輸入第{c+1}位學生成績:(輸入負數結束程式)\")\n",
    "    print(a)\n",
    "    if(a<0):\n",
    "        break\n",
    "    b=b+a\n",
    "    c=c+1\n",
    "\n",
    "    \n",
    "print(f\"全班總成績為:{b}，平均為:{b/c}\")"
   ]
  },
  {
   "cell_type": "code",
   "execution_count": 3,
   "metadata": {},
   "outputs": [
    {
     "name": "stdout",
     "output_type": "stream",
     "text": [
      "程式結束\n"
     ]
    }
   ],
   "source": [
    "#顯示:\n",
    "#奇數輸出平方\n",
    "#偶數不做任何動作\n",
    "#'q'要離開\n",
    "\n",
    "while(True):\n",
    "    a=input(\"請輸入整數，輸入'q','Q','quit','Quit','QUIT'離開:\")#現在是字串\n",
    "    if(a==\"q\" or a==\"Q\" or a==\"quit\" or a==\"Quit\" or a==\"QUIT\"):\n",
    "        break\n",
    "\n",
    "    try:#沒錯誤時執行\n",
    "        a=int(a)#把字串轉為整數\n",
    "    except:#程式錯誤時執行下面的程式\n",
    "        print(f\"{a}格式錯誤\")\n",
    "        continue#回到迴圈的開頭\n",
    "    \n",
    "    if(a%2==1):\n",
    "        print(f\"{a}的平方是:{a**2}\")#**是次方\n",
    "    else:\n",
    "        print(\"不做任何事\")\n",
    "\n",
    "print(\"程式結束\")\n"
   ]
  }
 ],
 "metadata": {
  "kernelspec": {
   "display_name": "Python 3",
   "language": "python",
   "name": "python3"
  },
  "language_info": {
   "codemirror_mode": {
    "name": "ipython",
    "version": 3
   },
   "file_extension": ".py",
   "mimetype": "text/x-python",
   "name": "python",
   "nbconvert_exporter": "python",
   "pygments_lexer": "ipython3",
   "version": "3.10.13"
  }
 },
 "nbformat": 4,
 "nbformat_minor": 2
}
