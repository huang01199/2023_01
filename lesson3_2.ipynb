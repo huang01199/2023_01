{
 "cells": [
  {
   "cell_type": "code",
   "execution_count": 2,
   "metadata": {},
   "outputs": [
    {
     "data": {
      "text/plain": [
       "10"
      ]
     },
     "execution_count": 2,
     "metadata": {},
     "output_type": "execute_result"
    }
   ],
   "source": [
    "n=5\n",
    "n+5\n",
    "n"
   ]
  },
  {
   "cell_type": "code",
   "execution_count": 4,
   "metadata": {},
   "outputs": [
    {
     "name": "stdout",
     "output_type": "stream",
     "text": [
      "三個數的和是:15\n"
     ]
    }
   ],
   "source": [
    "\n",
    "a = 0\n",
    "b=eval(input(\"請輸入第一個數值\"))\n",
    "a+=b #複合指定運算子 = a=a+b\n",
    "\n",
    "b=eval(input(\"請輸入第二個數值\"))\n",
    "a+=b\n",
    "\n",
    "b=eval(input(\"請輸入第二個數值\"))\n",
    "a+=b\n",
    "print(f\"三個數的和是:{a}\")\n"
   ]
  }
 ],
 "metadata": {
  "kernelspec": {
   "display_name": "Python 3",
   "language": "python",
   "name": "python3"
  },
  "language_info": {
   "codemirror_mode": {
    "name": "ipython",
    "version": 3
   },
   "file_extension": ".py",
   "mimetype": "text/x-python",
   "name": "python",
   "nbconvert_exporter": "python",
   "pygments_lexer": "ipython3",
   "version": "3.10.13"
  }
 },
 "nbformat": 4,
 "nbformat_minor": 2
}
