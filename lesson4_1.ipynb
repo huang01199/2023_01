{
 "cells": [
  {
   "cell_type": "code",
   "execution_count": 3,
   "metadata": {},
   "outputs": [
    {
     "data": {
      "text/plain": [
       "7.0"
      ]
     },
     "execution_count": 3,
     "metadata": {},
     "output_type": "execute_result"
    }
   ],
   "source": [
    "value = 0\n",
    "value += 0\n",
    "value += 5\n",
    "value += 9\n",
    "value += 14\n",
    "\n",
    "value / 4"
   ]
  },
  {
   "cell_type": "code",
   "execution_count": 2,
   "metadata": {},
   "outputs": [
    {
     "data": {
      "text/plain": [
       "7.0"
      ]
     },
     "execution_count": 2,
     "metadata": {},
     "output_type": "execute_result"
    }
   ],
   "source": [
    "value1 = 0\n",
    "value1 += 5\n",
    "value1 += 6\n",
    "value1 += 8\n",
    "value1 += 9\n",
    "\n",
    "value1 / 4"
   ]
  },
  {
   "cell_type": "code",
   "execution_count": 6,
   "metadata": {},
   "outputs": [
    {
     "name": "stdout",
     "output_type": "stream",
     "text": [
      "[0,5,9,14]的標準差:5.94418483337567\n",
      "[0,5,9,14]的平均值:7\n",
      "[5,6,8,9]的標準差:1.8257418583505538\n",
      "[5,6,8,9]的平均值:7\n"
     ]
    }
   ],
   "source": [
    "import statistics\n",
    "\n",
    "mean1=statistics.mean([0,5,9,14])\n",
    "std1=statistics.stdev([0,5,9,14])\n",
    "print(f'[0,5,9,14]的標準差:{std1}')\n",
    "print(f'[0,5,9,14]的平均值:{mean1}')\n",
    "\n",
    "mean2=statistics.mean([5,6,8,9])\n",
    "std2=statistics.stdev([5,6,8,9])\n",
    "print(f'[5,6,8,9]的標準差:{std2}')\n",
    "print(f'[5,6,8,9]的平均值:{mean2}')"
   ]
  },
  {
   "cell_type": "code",
   "execution_count": 7,
   "metadata": {},
   "outputs": [
    {
     "data": {
      "text/plain": [
       "True"
      ]
     },
     "execution_count": 7,
     "metadata": {},
     "output_type": "execute_result"
    }
   ],
   "source": [
    "3<5"
   ]
  },
  {
   "cell_type": "code",
   "execution_count": 8,
   "metadata": {},
   "outputs": [
    {
     "data": {
      "text/plain": [
       "False"
      ]
     },
     "execution_count": 8,
     "metadata": {},
     "output_type": "execute_result"
    }
   ],
   "source": [
    "3>5"
   ]
  },
  {
   "cell_type": "code",
   "execution_count": 10,
   "metadata": {},
   "outputs": [
    {
     "data": {
      "text/plain": [
       "True"
      ]
     },
     "execution_count": 10,
     "metadata": {},
     "output_type": "execute_result"
    }
   ],
   "source": [
    "5==5"
   ]
  },
  {
   "cell_type": "code",
   "execution_count": 1,
   "metadata": {},
   "outputs": [
    {
     "data": {
      "text/plain": [
       "False"
      ]
     },
     "execution_count": 1,
     "metadata": {},
     "output_type": "execute_result"
    }
   ],
   "source": [
    "5!=5"
   ]
  }
 ],
 "metadata": {
  "kernelspec": {
   "display_name": "Python 3",
   "language": "python",
   "name": "python3"
  },
  "language_info": {
   "codemirror_mode": {
    "name": "ipython",
    "version": 3
   },
   "file_extension": ".py",
   "mimetype": "text/x-python",
   "name": "python",
   "nbconvert_exporter": "python",
   "pygments_lexer": "ipython3",
   "version": "3.10.13"
  }
 },
 "nbformat": 4,
 "nbformat_minor": 2
}
